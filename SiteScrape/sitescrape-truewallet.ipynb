{
 "cells": [
  {
   "cell_type": "code",
   "execution_count": 1,
   "metadata": {},
   "outputs": [],
   "source": [
    "from selenium import webdriver\n",
    "from selenium.webdriver.common.by import By\n",
    "from selenium.webdriver.chrome.service import Service\n",
    "from selenium.webdriver.chrome.options import Options\n",
    "from selenium.common.exceptions import ElementClickInterceptedException, StaleElementReferenceException, NoSuchElementException\n",
    "from selenium.webdriver.common.action_chains import ActionChains\n",
    "from selenium.webdriver.support.ui import WebDriverWait\n",
    "from selenium.webdriver.support import expected_conditions as EC\n",
    "import time\n",
    "import polars as pl"
   ]
  },
  {
   "cell_type": "code",
   "execution_count": 2,
   "metadata": {},
   "outputs": [
    {
     "data": {
      "text/plain": [
       "\"\\nfrom selenium import webdriver\\nfrom selenium.webdriver.chrome.service import Service\\n\\nDRIVER_PATH = r'C:\\\\Users\\\\patom\\\\OneDrive\\\\Documents\\\\chrome-win64\\\\chrome.exe'\\nservice = Service(executable_path=DRIVER_PATH)\\noptions = webdriver.ChromeOptions()\\ndriver = webdriver.Chrome(service=service, options=options)\\n\\ndriver = webdriver.Chrome(service, options)\\n\""
      ]
     },
     "execution_count": 2,
     "metadata": {},
     "output_type": "execute_result"
    }
   ],
   "source": [
    "r'''\n",
    "from selenium import webdriver\n",
    "from selenium.webdriver.chrome.service import Service\n",
    "\n",
    "DRIVER_PATH = r'C:\\Users\\patom\\OneDrive\\Documents\\chrome-win64\\chrome.exe'\n",
    "service = Service(executable_path=DRIVER_PATH)\n",
    "options = webdriver.ChromeOptions()\n",
    "driver = webdriver.Chrome(service=service, options=options)\n",
    "\n",
    "driver = webdriver.Chrome(service, options)\n",
    "'''"
   ]
  },
  {
   "cell_type": "code",
   "execution_count": 3,
   "metadata": {},
   "outputs": [],
   "source": [
    "# import the required library\n",
    "from selenium import webdriver\n",
    " \n",
    "# initialize an instance of the chrome driver (browser)\n",
    "driver = webdriver.Chrome()"
   ]
  },
  {
   "cell_type": "code",
   "execution_count": 4,
   "metadata": {},
   "outputs": [],
   "source": [
    "# visit your target site\n",
    "#driver.get(\"https://www.scrapingcourse.com/ecommerce/\")\n",
    "driver.get('https://www.facebook.com/people/TrueMoney/100064477908538/')\n",
    "\n",
    "# output the full-page HTML\n",
    "#print(driver.page_source)\n",
    "\n",
    "# release the resources allocated by Selenium and shut down the browser\n",
    "#driver.quit()"
   ]
  },
  {
   "cell_type": "code",
   "execution_count": 5,
   "metadata": {},
   "outputs": [],
   "source": [
    "cover_post_pattern = \"//div[@role='article']//div[contains(@style, 'background-size: cover')]\"\n",
    "post_pattern = \"//div[@data-ad-preview='message']\"\n",
    "article_pattern = \"//div[@role='article']\""
   ]
  },
  {
   "cell_type": "code",
   "execution_count": 12,
   "metadata": {},
   "outputs": [],
   "source": [
    "# Locate the button using aria-label and class name\n",
    "button = driver.find_element(By.CSS_SELECTOR, 'div[aria-label=\"ปิด\"]')\n",
    "\n",
    "# Click the button\n",
    "button.click()"
   ]
  },
  {
   "cell_type": "code",
   "execution_count": 8,
   "metadata": {},
   "outputs": [
    {
     "name": "stdout",
     "output_type": "stream",
     "text": [
      "1 https://www.facebook.com/people/%E0%B8%98%E0%B8%99%E0%B8%81%E0%B8%A4%E0%B8%95-%E0%B8%8A%E0%B8%B1%E0%B8%A2%E0%B8%9B%E0%B8%A3%E0%B8%B5%E0%B8%8A%E0%B8%B2/pfbid02xUL9qZxSg1dE7CPuVQnx71XBDxedSJN7c3L4AwTwCs89Jf2NaT5PtS52LaXc4svAl/?comment_id=Y29tbWVudDo5NjAwNTI0Mzk0ODczNDRfMTU4NjEyODUzNTQ0NTEwOQ%3D%3D&__cft__[0]=AZVugnvPQ1mvtHI5ocjVHqZI2jDkSRgejjq-GCAFVZCTVWZ04CHnBi9CSwr7LXHwSGPtO9g1YOGi7wsfBnH-dq0NT_msxQoEeuKBS5MC34Gx9Bz0iLzNApEgfo9GwZx0jQz7ugpNSBrYnvFF0epjD-eIc2JGCGLOvRsPB69hc4DtLXDduh-_7PgIIOnyrORJfWE&__tn__=R-R\n",
      "2 https://www.facebook.com/permalink.php?story_fbid=pfbid0HgVe9dZWmAzjbqMv3DxDW1bM6sUFj3BgUidHykf5zn1r4FMy5GjMTiAq4jYWhcswl&id=100064477908538&comment_id=1586128535445109&__cft__[0]=AZVugnvPQ1mvtHI5ocjVHqZI2jDkSRgejjq-GCAFVZCTVWZ04CHnBi9CSwr7LXHwSGPtO9g1YOGi7wsfBnH-dq0NT_msxQoEeuKBS5MC34Gx9Bz0iLzNApEgfo9GwZx0jQz7ugpNSBrYnvFF0epjD-eIc2JGCGLOvRsPB69hc4DtLXDduh-_7PgIIOnyrORJfWE&__tn__=R-R\n",
      "3 https://www.facebook.com/people/TrueMoney/100064477908538/?comment_id=Y29tbWVudDo5NjAwNTI0Mzk0ODczNDRfODM5ODI2MTk3Njk2MjU4NQ%3D%3D&__cft__[0]=AZVugnvPQ1mvtHI5ocjVHqZI2jDkSRgejjq-GCAFVZCTVWZ04CHnBi9CSwr7LXHwSGPtO9g1YOGi7wsfBnH-dq0NT_msxQoEeuKBS5MC34Gx9Bz0iLzNApEgfo9GwZx0jQz7ugpNSBrYnvFF0epjD-eIc2JGCGLOvRsPB69hc4DtLXDduh-_7PgIIOnyrORJfWE&__tn__=R-R\n",
      "4 https://www.facebook.com/permalink.php?story_fbid=pfbid0HgVe9dZWmAzjbqMv3DxDW1bM6sUFj3BgUidHykf5zn1r4FMy5GjMTiAq4jYWhcswl&id=100064477908538&comment_id=1586128535445109&reply_comment_id=8398261976962585&__cft__[0]=AZVugnvPQ1mvtHI5ocjVHqZI2jDkSRgejjq-GCAFVZCTVWZ04CHnBi9CSwr7LXHwSGPtO9g1YOGi7wsfBnH-dq0NT_msxQoEeuKBS5MC34Gx9Bz0iLzNApEgfo9GwZx0jQz7ugpNSBrYnvFF0epjD-eIc2JGCGLOvRsPB69hc4DtLXDduh-_7PgIIOnyrORJfWE&__tn__=R-R\n"
     ]
    }
   ],
   "source": [
    "# Locate the <a> element (for example, using its text or other attributes)\n",
    "elements = driver.find_elements(By.XPATH, \"//div[@role='article']//a[@role='link' and @tabindex='0']\")\n",
    "\n",
    "links = []\n",
    "for element in elements:\n",
    "\n",
    "    # Extract the href attribute\n",
    "    href_link = element.get_attribute('href')\n",
    "\n",
    "    #if any(substring in href_link for substring in ['/posts/', '/reel/', '/videos/']):\n",
    "    href_link = href_link.split('?_')[0]\n",
    "    if len(links) == 0 or href_link != links[-1]:\n",
    "        links.append(href_link)\n",
    "\n",
    "    # Print or use the extracted link\n",
    "cnt = 0\n",
    "for link in links:\n",
    "    cnt += 1\n",
    "    print(cnt, link)"
   ]
  },
  {
   "cell_type": "code",
   "execution_count": 9,
   "metadata": {},
   "outputs": [],
   "source": [
    "def is_cover_update(url):\n",
    "    splited = url.split('/posts/')\n",
    "    if len(splited) == 1:\n",
    "        return False\n",
    "    else:\n",
    "        if ':' in splited[1]:\n",
    "            return True\n",
    "        else:\n",
    "            return False"
   ]
  },
  {
   "cell_type": "code",
   "execution_count": 10,
   "metadata": {},
   "outputs": [],
   "source": [
    "# Locate the <a> element (for example, using its text or other attributes)\n",
    "target_class = 'html-span xdj266r x11i5rnm xat24cr x1mh8g0r xexx8yu x4uap5 x18d9i69 xkhd6sd x1hl2dhg x16tdsg8 x1vvkbs'\n",
    "elements = driver.find_elements(By.XPATH, f\"//div[@role='article']//span[@class='{target_class}']//a[@role='link' and @tabindex='0']\")\n",
    "\n",
    "links = []\n",
    "dates = []\n",
    "cnt = 0\n",
    "for element in elements:\n",
    "\n",
    "    # Extract the href attribute\n",
    "    text_post_date = element.get_attribute('aria-label')\n",
    "    href_link = element.get_attribute('href')\n",
    "    href_link = href_link.split('?')[0]\n",
    "\n",
    "    if not is_cover_update(href_link) and text_post_date and any(substring in href_link for substring in ['/posts/', '/reel/', '/videos/']):\n",
    "        cnt += 1\n",
    "        dates.append(text_post_date)\n",
    "        if len(links) == 0 or href_link != links[-1]:\n",
    "            links.append(href_link)\n",
    "        #print(cnt, text)\n",
    "\n",
    "    # Extract the href attribute\n",
    "\n",
    "    #if any(substring in href_link for substring in ['/posts/', '/reel/', '/videos/']):\n",
    "    #    if len(links) == 0 or href_link != links[-1]:\n",
    "    #        links.append(href_link)\n",
    "\n",
    "    # Print or use the extracted link\n",
    "cnt = 0\n",
    "for date, link in zip(dates, links):\n",
    "    cnt += 1\n",
    "    print(cnt, date, link)"
   ]
  },
  {
   "cell_type": "code",
   "execution_count": 11,
   "metadata": {},
   "outputs": [
    {
     "name": "stdout",
     "output_type": "stream",
     "text": [
      "===[3]===\n",
      "[1]--------------\n",
      "๘ ตุลาคม ๒๕๖๗ \n",
      "เนื่องในวันคล้ายวันประสูติ พระเจ้าวรวงศ์เธอ พระองค์เจ้าสิริภาจุฑาภรณ์\n",
      "ทรงพระเจริญ… See more\n",
      "[2]--------------\n",
      " เตรียมช้อป Lazada 10.10! เพิ่มของลงตระกร้ากันรึยังง?\n",
      "รับส่วนลด 30.- เมื่อช้อปครบ 249.- แล้วเลือกจ่ายด้วยทรูมันนี่ เริ่มเก็บคูปองวันที่ 9 ต.ค. 67 20.00 น. อย่าลืมเติมเงินก่อนช้อปนะ \n",
      " เฉพาะวันที่ 9 ต.ค. 67 (2ทุ่ม) - 12 ต.ค. 67 เท่านั้นนะ\n",
      "… See more\n",
      "[3]--------------\n",
      " ใช้จ่ายได้แบบฟิ๊น ฟิน รับเงินคืนสูงสุด 100 บาท\n",
      " รับเพิ่ม! ทรูมันนี่ คอยน์ X3\n",
      "เพียงใช้จ่ายด้วย Money Plus บนแอปทรูมันนี่\n",
      ".\n",
      "ให้ทุกการใช้จ่ายของคุณคุ้มยิ่งขึ้นต้อง Money Plus เท่านั้น \n",
      " https://tmn-web.app.link/e/FSAKMOFB\n",
      "---… See more\n"
     ]
    }
   ],
   "source": [
    "# Locate the element using XPath or CSS Selector\n",
    "post_elements = driver.find_elements(By.XPATH, f'{post_pattern} | {cover_post_pattern}')\n",
    "\n",
    "cnt = 0\n",
    "texts = []\n",
    "print(f'===[{len(post_elements)}]===')\n",
    "for post in post_elements:\n",
    "    cnt += 1\n",
    "    # Extract the text\n",
    "    element_text = post.text\n",
    "    texts.append(element_text)\n",
    "\n",
    "    # Print the extracted text\n",
    "    print(f'[{cnt}]--------------')\n",
    "    print(element_text)"
   ]
  },
  {
   "cell_type": "code",
   "execution_count": 21,
   "metadata": {},
   "outputs": [],
   "source": [
    "scroll_exc = '''\n",
    "var x = 1; // y-axis pixel displacement\n",
    "var y = 5; // delay in milliseconds\n",
    "var isScrolling = true; // flag to control scrolling\n",
    "var intervalId;\n",
    "var initialScrollPosition;\n",
    "\n",
    "function scrollFunction() {\n",
    "    if (isScrolling) {\n",
    "        window.scroll(0, x);\n",
    "        x = x + 100; // if you want to increase speed, simply increase the increment interval\n",
    "    }\n",
    "}\n",
    "\n",
    "// Set the interval and store the interval ID\n",
    "intervalId = setInterval(scrollFunction, y);\n",
    "\n",
    "// Add an event listener to pause scrolling on single click\n",
    "document.addEventListener('click', function(event) {\n",
    "    if (event.detail === 1) { // Check for a single click\n",
    "        // Pausing scrolling\n",
    "        clearInterval(intervalId);\n",
    "        initialScrollPosition = window.scrollY;\n",
    "        isScrolling = false;\n",
    "        console.log('Scrolling paused');\n",
    "    }\n",
    "});\n",
    "\n",
    "// Add an event listener to resume scrolling on double click\n",
    "document.addEventListener('dblclick', function() {\n",
    "    // Resuming scrolling\n",
    "    x = initialScrollPosition;\n",
    "    intervalId = setInterval(scrollFunction, y);\n",
    "    isScrolling = true;\n",
    "    console.log('Scrolling resumed');\n",
    "});\n",
    "'''\n",
    "\n",
    "driver.execute_script(scroll_exc)"
   ]
  },
  {
   "cell_type": "code",
   "execution_count": 22,
   "metadata": {},
   "outputs": [],
   "source": [
    "#/!\\ Worked!\n",
    "try:\n",
    "    # Locate all elements that match the second button using class names and role attribute\n",
    "    view_more_buttons = driver.find_elements(By.XPATH, '//div[@role=\"button\" and text()=\"ดูเพิ่มเติม\"]')\n",
    "\n",
    "    # Click each \"ดูเพิ่มเติม\" button found\n",
    "    for button in view_more_buttons:\n",
    "        try:\n",
    "            driver.execute_script(\"arguments[0].click();\", button)\n",
    "            #print(\"Clicked 'ดูเพิ่มเติม' button.\")\n",
    "        except ElementClickInterceptedException:\n",
    "            print(\"Unable to click 'ดูเพิ่มเติม' button (may be hidden).\")\n",
    "        except NoSuchElementException:\n",
    "            print(\"Not found 'ดูเพิ่มเติม' button.\")\n",
    "\n",
    "except Exception as e:\n",
    "    print(f\"An error occurred while finding 'ดูเพิ่มเติม' buttons: {e}\")"
   ]
  },
  {
   "cell_type": "code",
   "execution_count": 23,
   "metadata": {},
   "outputs": [
    {
     "name": "stdout",
     "output_type": "stream",
     "text": [
      "FOUND: 130 POSTS\n"
     ]
    }
   ],
   "source": [
    "# Locate all child <div> elements within a parent <div> using XPath\n",
    "full_xpath = '//*[@id=\"mount_0_0_8q\"]/div/div[1]/div/div[3]/div/div/div[1]/div[1]/div/div/div[4]/div[2]/div/div[2]/div'\n",
    "child_divs = driver.find_elements(By.XPATH, f\"{full_xpath}/div\")\n",
    "\n",
    "cover_post_pattern = \".//div[@role='article']//div[contains(@style, 'background-size: cover')]\"\n",
    "post_pattern = \".//div[@data-ad-preview='message']\"\n",
    "target_class = 'html-span xdj266r x11i5rnm xat24cr x1mh8g0r xexx8yu x4uap5 x18d9i69 xkhd6sd x1hl2dhg x16tdsg8 x1vvkbs'\n",
    "\n",
    "stop_date = None #'30 เมษายน'\n",
    "cnt = 0\n",
    "data = {\n",
    "    'date': [],\n",
    "    'text': [],\n",
    "    'url': [],\n",
    "}\n",
    "print(f'FOUND: {len(child_divs)} POSTS')\n",
    "for div in child_divs:\n",
    "    cnt += 1\n",
    "    try:\n",
    "        text_element = div.find_element(By.XPATH, f'{post_pattern} | {cover_post_pattern}').text\n",
    "        head_elements = div.find_element(By.XPATH, f\".//div[@role='article']//span[@class='{target_class}']//a[@role='link' and @tabindex='0']\")\n",
    "        text_post_date = head_elements.get_attribute('aria-label')\n",
    "        href_link = head_elements.get_attribute('href')\n",
    "        href_link = href_link.split('?__')[0].split('&__')[0]\n",
    "        if stop_date and stop_date in text_post_date:\n",
    "            break\n",
    "    except NoSuchElementException:\n",
    "        text_element = text_post_date = href_link = None\n",
    "    #print(f'[{cnt}]---------[{text_post_date}][{href_link}]')\n",
    "    #print(text_element)\n",
    "    data['date'].append(text_post_date)\n",
    "    data['text'].append(text_element)\n",
    "    data['url'].append(href_link)"
   ]
  },
  {
   "cell_type": "code",
   "execution_count": 25,
   "metadata": {},
   "outputs": [],
   "source": [
    "driver.quit()"
   ]
  },
  {
   "cell_type": "code",
   "execution_count": 24,
   "metadata": {},
   "outputs": [
    {
     "data": {
      "text/html": [
       "<div><style>\n",
       ".dataframe > thead > tr,\n",
       ".dataframe > tbody > tr {\n",
       "  text-align: right;\n",
       "  white-space: pre-wrap;\n",
       "}\n",
       "</style>\n",
       "<small>shape: (119, 3)</small><table border=\"1\" class=\"dataframe\"><thead><tr><th>date</th><th>text</th><th>url</th></tr><tr><td>str</td><td>str</td><td>str</td></tr></thead><tbody><tr><td>&quot;1 ชั่วโมง&quot;</td><td>&quot;๘ ตุลาคม ๒๕๖๗ \n",
       "เนื่องในวันคล้า…</td><td>&quot;https://www.facebook.com/perma…</td></tr><tr><td>&quot;1 ชั่วโมง&quot;</td><td>&quot; เตรียมช้อป Lazada 10.10! เพิ่…</td><td>&quot;https://www.facebook.com/perma…</td></tr><tr><td>&quot;15 ชั่วโมง&quot;</td><td>&quot; ใช้จ่ายได้แบบฟิ๊น ฟิน รับเงิน…</td><td>&quot;https://www.facebook.com/perma…</td></tr><tr><td>&quot;17 ชั่วโมง&quot;</td><td>&quot;เช็กอินทุกวัน รับเงินคืน หรือส…</td><td>&quot;https://www.facebook.com/perma…</td></tr><tr><td>&quot;23 ชั่วโมง&quot;</td><td>&quot;มื้อนี้อร่อยลุ้นรับโชค ! รับเง…</td><td>&quot;https://www.facebook.com/perma…</td></tr><tr><td>&hellip;</td><td>&hellip;</td><td>&hellip;</td></tr><tr><td>&quot;16 กันยายน เวลา 20:30 น.&quot;</td><td>&quot;มาแล้วๆ \n",
       " ประกาศผลผู้โชคดีที่เ…</td><td>&quot;https://www.facebook.com/perma…</td></tr><tr><td>&quot;16 กันยายน เวลา 20:07 น.&quot;</td><td>&quot;วางแผนอนาคต พร้อมรับโชคแบบจัดเ…</td><td>&quot;https://www.facebook.com/perma…</td></tr><tr><td>&quot;16 กันยายน เวลา 18:00 น.&quot;</td><td>&quot; ปังไม่หยุด! โปรเน็ตพุ่ง แถมให…</td><td>&quot;https://www.facebook.com/perma…</td></tr><tr><td>&quot;16 กันยายน เวลา 17:00 น.&quot;</td><td>&quot;ลูกค้าทรูมันนี่ รับคูปองเงินสด…</td><td>&quot;https://www.facebook.com/perma…</td></tr><tr><td>&quot;16 กันยายน เวลา 14:00 น.&quot;</td><td>&quot;เติมเน็ตแรงที่นี่ มีเงินคืน!\n",
       ".…</td><td>&quot;https://www.facebook.com/perma…</td></tr></tbody></table></div>"
      ],
      "text/plain": [
       "shape: (119, 3)\n",
       "┌─────────────────────────┬──────────────────────────────┬─────────────────────────────────┐\n",
       "│ date                    ┆ text                         ┆ url                             │\n",
       "│ ---                     ┆ ---                          ┆ ---                             │\n",
       "│ str                     ┆ str                          ┆ str                             │\n",
       "╞═════════════════════════╪══════════════════════════════╪═════════════════════════════════╡\n",
       "│ 1 ชั่วโมง                 ┆ ๘ ตุลาคม ๒๕๖๗                 ┆ https://www.facebook.com/perma… │\n",
       "│                         ┆ เนื่องในวันคล้า…                 ┆                                 │\n",
       "│ 1 ชั่วโมง                 ┆  เตรียมช้อป Lazada 10.10! เพิ่…  ┆ https://www.facebook.com/perma… │\n",
       "│ 15 ชั่วโมง                ┆  ใช้จ่ายได้แบบฟิ๊น ฟิน รับเงิน…      ┆ https://www.facebook.com/perma… │\n",
       "│ 17 ชั่วโมง                ┆ เช็กอินทุกวัน รับเงินคืน หรือส…      ┆ https://www.facebook.com/perma… │\n",
       "│ 23 ชั่วโมง                ┆ มื้อนี้อร่อยลุ้นรับโชค ! รับเง…       ┆ https://www.facebook.com/perma… │\n",
       "│ …                       ┆ …                            ┆ …                               │\n",
       "│ 16 กันยายน เวลา 20:30 น. ┆ มาแล้วๆ                       ┆ https://www.facebook.com/perma… │\n",
       "│                         ┆  ประกาศผลผู้โชคดีที่เ…            ┆                                 │\n",
       "│ 16 กันยายน เวลา 20:07 น. ┆ วางแผนอนาคต พร้อมรับโชคแบบจัดเ… ┆ https://www.facebook.com/perma… │\n",
       "│ 16 กันยายน เวลา 18:00 น. ┆  ปังไม่หยุด! โปรเน็ตพุ่ง แถมให…    ┆ https://www.facebook.com/perma… │\n",
       "│ 16 กันยายน เวลา 17:00 น. ┆ ลูกค้าทรูมันนี่ รับคูปองเงินสด…       ┆ https://www.facebook.com/perma… │\n",
       "│ 16 กันยายน เวลา 14:00 น. ┆ เติมเน็ตแรงที่นี่ มีเงินคืน!          ┆ https://www.facebook.com/perma… │\n",
       "│                         ┆ .…                           ┆                                 │\n",
       "└─────────────────────────┴──────────────────────────────┴─────────────────────────────────┘"
      ]
     },
     "execution_count": 24,
     "metadata": {},
     "output_type": "execute_result"
    }
   ],
   "source": [
    "df = pl.DataFrame(data)\n",
    "df = df.drop_nulls(pl.all())\n",
    "df"
   ]
  },
  {
   "cell_type": "code",
   "execution_count": 18,
   "metadata": {},
   "outputs": [
    {
     "data": {
      "text/html": [
       "<div><style>\n",
       ".dataframe > thead > tr,\n",
       ".dataframe > tbody > tr {\n",
       "  text-align: right;\n",
       "  white-space: pre-wrap;\n",
       "}\n",
       "</style>\n",
       "<small>shape: (0, 3)</small><table border=\"1\" class=\"dataframe\"><thead><tr><th>date</th><th>text</th><th>url</th></tr><tr><td>str</td><td>str</td><td>str</td></tr></thead><tbody></tbody></table></div>"
      ],
      "text/plain": [
       "shape: (0, 3)\n",
       "┌──────┬──────┬─────┐\n",
       "│ date ┆ text ┆ url │\n",
       "│ ---  ┆ ---  ┆ --- │\n",
       "│ str  ┆ str  ┆ str │\n",
       "╞══════╪══════╪═════╡\n",
       "└──────┴──────┴─────┘"
      ]
     },
     "execution_count": 18,
     "metadata": {},
     "output_type": "execute_result"
    }
   ],
   "source": [
    "df.filter(\n",
    "    pl.col('date').is_null()\n",
    ")"
   ]
  },
  {
   "cell_type": "code",
   "execution_count": 19,
   "metadata": {},
   "outputs": [
    {
     "data": {
      "text/plain": [
       "<xlsxwriter.workbook.Workbook at 0x1c62c74e550>"
      ]
     },
     "execution_count": 19,
     "metadata": {},
     "output_type": "execute_result"
    }
   ],
   "source": [
    "df.write_csv('fb_truemoney.csv')\n",
    "df.write_excel('fb_truemoney.xlsx')"
   ]
  }
 ],
 "metadata": {
  "kernelspec": {
   "display_name": ".venv",
   "language": "python",
   "name": "python3"
  },
  "language_info": {
   "codemirror_mode": {
    "name": "ipython",
    "version": 3
   },
   "file_extension": ".py",
   "mimetype": "text/x-python",
   "name": "python",
   "nbconvert_exporter": "python",
   "pygments_lexer": "ipython3",
   "version": "3.11.9"
  }
 },
 "nbformat": 4,
 "nbformat_minor": 2
}
